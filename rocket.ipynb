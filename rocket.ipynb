{
 "cells": [
  {
   "cell_type": "code",
   "execution_count": 112,
   "metadata": {
    "collapsed": true
   },
   "outputs": [],
   "source": [
    "import numpy as np\n",
    "import matplotlib.pyplot as plt"
   ]
  },
  {
   "cell_type": "markdown",
   "metadata": {},
   "source": [
    "Things to include\n",
    "\n",
    "- Solve Bang-Bang\n",
    "- Solve Bang-SingularBang\n",
    "- Plot trajectories\n",
    "- Account for:\n",
    "  - Mass of rocket\n",
    "  - Reduction in mass of fuel due to expenditure\n",
    "  - Air restistance drag D(h, v)\n",
    "  - Max fuel expenditure\n"
   ]
  },
  {
   "cell_type": "code",
   "execution_count": 107,
   "metadata": {},
   "outputs": [],
   "source": [
    "dry_mass = .6\n",
    "init_fuel = .4\n",
    "\n",
    "force_to_fuel_consumtion = .3 # Δm = -F/c\n",
    "drag = lambda v,h: 1/2*v**2*(620*np.exp(500))*np.exp(-500*h)\n",
    "Ddrag = lambda v,h: v*(620* np.exp(500))*np.exp(-500*h)\n",
    "\n",
    "class Rocket(object):\n",
    "    \"\"\"\n",
    "    Solves the Rocket Problem (Goddard Problem) of obtaining a maximimum height\n",
    "     using a specified amount of fuel, with a drag as a function of height/velocity\n",
    "     \n",
    "    Params\n",
    "    ------\n",
    "    \n",
    "    dry_mass : float\n",
    "        descr\n",
    "    fuel_mass : float\n",
    "    drag : function\n",
    "    f_max : float\n",
    "    \n",
    "    \"\"\"\n",
    "    def __init__(self, dry_mass, fuel_mass, drag, Ddrag, f_max=3.5):\n",
    "        self.verbose = 0\n",
    "        self.g = 9.8\n",
    "        self.g = 1\n",
    "        self.dry_mass = dry_mass\n",
    "        self.init_fuel = init_fuel\n",
    "        self.mass = dry_mass + init_fuel\n",
    "        self.drag = drag\n",
    "        self.Ddrag = Ddrag\n",
    "        self.f_max = f_max\n",
    "        self.c = 500\n",
    "        self.beta = 500\n",
    "        \n",
    "    def _update(self, force, state, dt):\n",
    "        if self.verbose:\n",
    "            print('update')\n",
    "            print('state', state)\n",
    "            print('force', force)\n",
    "            print('drag', self.drag(v0,h0))\n",
    "        v0, h0, m0 = state\n",
    "        v1 = v0 + dt*(1/m0*(force - self.drag(v0, h0)) - self.g)\n",
    "        h1 = h0 + dt*(v0)\n",
    "        m1 = m0 + dt*(-force/self.c)\n",
    "        return np.array([v1, h1, m1])\n",
    "    \n",
    "    def _in_arc(self, state, tol=1e-3):\n",
    "        # May need to check tolerance\n",
    "        v, h, m = state\n",
    "        arc_check =  (self.drag(v, h) + m*self.g - v/self.c * self.drag(v, h)\n",
    "                                - v*self.Ddrag(v, h))\n",
    "        if self.verbose:\n",
    "            print('arc_check',arc_check)\n",
    "        return abs(arc_check) < tol\n",
    "\n",
    "    def _arc_force(self, state):\n",
    "        v, h, m = state\n",
    "        return (self.drag(v, h) + m*self.g + m*self.g/(1 + 4*(self.c/v) +2*(self.c/v)**2)\n",
    "                * (self.beta * self.c**2/self.g *(1 + v/self.c) - 1 - 2*self.c/v))\n",
    "    \n",
    "    #return heights, velocities, control\n",
    "    def solve_bsb(self):\n",
    "        i = 0\n",
    "        dt = 1\n",
    "        states = []\n",
    "        state = np.array([0., 1., self.mass])\n",
    "        \n",
    "        while self.mass > self.dry_mass:\n",
    "            states.append(state)\n",
    "            v0, h0, m0 = state\n",
    "            if not self._in_arc(state):\n",
    "                if self.verbose:\n",
    "                    print(\"At max force\")\n",
    "                force = self.f_max\n",
    "            else:\n",
    "                if self.verbose:\n",
    "                    print(\"Arc force\")\n",
    "                force = self._arc_force(state)\n",
    "            state = self._update(force, state, dt)\n",
    "            if i < 10 and state[0]<0:\n",
    "                state[0]=0\n",
    "            if i>10 and state[1]<=0:\n",
    "                break\n",
    "            i+=1\n",
    "            if self.verbose:\n",
    "                print()\n",
    "            if i>5000:\n",
    "                break\n",
    "        states.append(state)\n",
    "        return np.array(states)\n",
    "    \n",
    "    def solve_bb(self):\n",
    "        pass\n",
    "    \n",
    "    def solve_fixedforce(self):\n",
    "        pass\n",
    "    \n",
    "    def plot_trajectories(self):\n",
    "        pass\n",
    "    \n",
    "    "
   ]
  },
  {
   "cell_type": "code",
   "execution_count": 108,
   "metadata": {},
   "outputs": [],
   "source": [
    "#def __init__(self, dry_mass, fuel_mass, drag, Ddrag, f_max=3.5):\n",
    "\n",
    "dry_mass = .6\n",
    "fuel_mass = .4\n",
    "drag = lambda v,h: 1/2*v**2*(620* np.exp(500))*np.exp(-500*h)\n",
    "Ddrag = lambda v,h: v*(620* np.exp(500))*np.exp(-500*h)\n",
    "\n",
    "rocket = Rocket(dry_mass, fuel_mass, drag, Ddrag)"
   ]
  },
  {
   "cell_type": "code",
   "execution_count": 109,
   "metadata": {},
   "outputs": [],
   "source": [
    "states = rocket.solve_bsb()"
   ]
  },
  {
   "cell_type": "code",
   "execution_count": 110,
   "metadata": {},
   "outputs": [
    {
     "data": {
      "text/plain": [
       "(174, 3)"
      ]
     },
     "execution_count": 110,
     "metadata": {},
     "output_type": "execute_result"
    }
   ],
   "source": [
    "states.shape"
   ]
  },
  {
   "cell_type": "code",
   "execution_count": 111,
   "metadata": {},
   "outputs": [
    {
     "data": {
      "image/png": "[encoded data removed]",
      "text/plain": [
       "<matplotlib.figure.Figure at 0x25eba08ea90>"
      ]
     },
     "metadata": {},
     "output_type": "display_data"
    }
   ],
   "source": [
    "plt.plot(states[:,1])\n",
    "plt.show()"
   ]
  },
  {
   "cell_type": "code",
   "execution_count": null,
   "metadata": {
    "collapsed": true
   },
   "outputs": [],
   "source": []
  }
 ],
 "metadata": {
  "kernelspec": {
   "display_name": "Python 3",
   "language": "python",
   "name": "python3"
  },
  "language_info": {
   "codemirror_mode": {
    "name": "ipython",
    "version": 3
   },
   "file_extension": ".py",
   "mimetype": "text/x-python",
   "name": "python",
   "nbconvert_exporter": "python",
   "pygments_lexer": "ipython3",
   "version": "3.6.1"
  }
 },
 "nbformat": 4,
 "nbformat_minor": 2
}
