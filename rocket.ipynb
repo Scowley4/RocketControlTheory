{
 "cells": [
  {
   "cell_type": "code",
   "execution_count": 1,
   "metadata": {},
   "outputs": [],
   "source": [
    "import numpy as np\n",
    "import matplotlib.pyplot as plt\n"
   ]
  },
  {
   "cell_type": "markdown",
   "metadata": {},
   "source": [
    "Things to include\n",
    "\n",
    "- Solve Bang-Bang\n",
    "- Solve Bang-SingularBang\n",
    "- Plot trajectories\n",
    "- Account for:\n",
    "  - Mass of rocket\n",
    "  - Reduction in mass of fuel due to expenditure\n",
    "  - Air restistance drag D(h, v)\n",
    "  - Max fuel expenditure\n"
   ]
  },
  {
   "cell_type": "code",
   "execution_count": 2,
   "metadata": {},
   "outputs": [],
   "source": [
    "dry_mass = .6\n",
    "init_fuel = .4\n",
    "\n",
    "force_to_fuel_consumtion = .3 # Δm = -F/c\n",
    "\n",
    "drag = lambda v,h = None\n",
    "class Rocket(object):\n",
    "    \"\"\"\n",
    "    Solves the Rocket Problem (Goddard Problem) of obtaining a maximimum height\n",
    "     using a specified amount of fuel, with a drag as a function of height/velocity\n",
    "     \n",
    "    Params\n",
    "    ------\n",
    "    \n",
    "    dry_mass : float\n",
    "        descr\n",
    "    fuel_mass : float\n",
    "    drag : function\n",
    "    f_max : float\n",
    "    \n",
    "    \"\"\"\n",
    "    def __init__(self, dry_mass, fuel_mass, drag, f_max=3.5):\n",
    "        self.g = 9.8\n",
    "        self.dry_mass = dry_mass\n",
    "        self.init_fuel = init_fuel\n",
    "        self.mass = dry_mass + init_fuel\n",
    "        self.drag = drag\n",
    "        self.f_max = f_max\n",
    "        \n",
    "        \n",
    "    def _update(self, force, state):\n",
    "        pass\n",
    "        return state\n",
    "    \n",
    "    #return heights, velocities, control\n",
    "    def solve_bsb(self):\n",
    "        pass\n",
    "    \n",
    "    def solve_bb(self):\n",
    "        pass\n",
    "    \n",
    "    def solve_fixedforce(self):\n",
    "        pass\n",
    "    \n",
    "    def plot_trajectories(self):\n",
    "        pass\n",
    "    \n",
    "    "
   ]
  },
  {
   "cell_type": "code",
   "execution_count": null,
   "metadata": {},
   "outputs": [],
   "source": []
  }
 ],
 "metadata": {
  "kernelspec": {
   "display_name": "Python 3",
   "language": "python",
   "name": "python3"
  },
  "language_info": {
   "codemirror_mode": {
    "name": "ipython",
    "version": 3
   },
   "file_extension": ".py",
   "mimetype": "text/x-python",
   "name": "python",
   "nbconvert_exporter": "python",
   "pygments_lexer": "ipython3",
   "version": "3.6.4"
  }
 },
 "nbformat": 4,
 "nbformat_minor": 2
}
