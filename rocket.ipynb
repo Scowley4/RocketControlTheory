{
 "cells": [
  {
   "cell_type": "code",
   "execution_count": 600,
   "metadata": {},
   "outputs": [],
   "source": [
    "import numpy as np\n",
    "import matplotlib.pyplot as plt\n",
    "from matplotlib.animation import FuncAnimation\n",
    "plt.style.use('ggplot')"
   ]
  },
  {
   "cell_type": "markdown",
   "metadata": {},
   "source": [
    "Things to include\n",
    "\n",
    "- Solve Bang-Bang\n",
    "- Solve Bang-SingularBang\n",
    "- Plot trajectories\n",
    "- Account for:\n",
    "  - Mass of rocket\n",
    "  - Reduction in mass of fuel due to expenditure\n",
    "  - Air restistance drag D(h, v)\n",
    "  - Max fuel expenditure\n"
   ]
  },
  {
   "cell_type": "code",
   "execution_count": 847,
   "metadata": {},
   "outputs": [],
   "source": [
    "class Rocket(object):\n",
    "    \"\"\"\n",
    "    Solves the Rocket Problem (Goddard Problem) of obtaining a maximimum height\n",
    "     using a specified amount of fuel, with a drag as a function of height/velocity\n",
    "     \n",
    "    Params\n",
    "    ------\n",
    "    dry_mass : float\n",
    "        descr\n",
    "    init_fuel : float\n",
    "    drag : function\n",
    "    f_max : float\n",
    "    \n",
    "    \"\"\"\n",
    "    def __init__(self, dry_mass, init_fuel, f_max=3.5, verbose=0):\n",
    "        self.verbose = verbose\n",
    "        \n",
    "        #Normalized equation for gravity (Divided by 9.8)\n",
    "        self.Grav = lambda h: 1 / h**2\n",
    "        \n",
    "        self.init_v = 0.\n",
    "        self.init_h = 1.\n",
    "        \n",
    "        self.dry_mass = dry_mass\n",
    "        self.init_fuel = init_fuel\n",
    "        self.mass = dry_mass + self.init_fuel\n",
    "        \n",
    "        # Equation for resistance\n",
    "        self.drag = lambda v,h: 310*v**2*np.exp(500*(1-h))\n",
    "        \n",
    "        # Derivative of equation for resistance\n",
    "        self.Ddrag = lambda v,h: 620*v*np.exp(500*(1-h))\n",
    "        \n",
    "        self.f_max = f_max\n",
    "        \n",
    "        # Constants from referenced papers\n",
    "        self.c = .500\n",
    "        self.beta = 500\n",
    "        \n",
    "        self.dt = 1/5000\n",
    "        \n",
    "    def _update(self, force, state, dt):\n",
    "        v0, h0, m0 = state\n",
    "        if self.verbose:\n",
    "            print('update')\n",
    "            print('state', state)\n",
    "            print('force', force)\n",
    "            print('drag', self.drag(v0,h0))\n",
    "        v1 = v0 + dt*(1/m0*(force - self.drag(v0, h0)) - self.Grav(h0))\n",
    "        h1 = h0 + dt*(v0)\n",
    "        m1 = m0 + dt*(-force/self.c)\n",
    "        return np.array([v1, h1, m1])\n",
    "    \n",
    "    def _in_arc(self, state, tol=1e-3):\n",
    "        v, h, m = state\n",
    "        arc_check =  (self.drag(v, h) + m*self.Grav(h) - v/self.c * self.drag(v, h)\n",
    "                                - v*self.Ddrag(v, h))\n",
    "        if self.verbose:\n",
    "            print('arc_check',arc_check)\n",
    "        return (arc_check) < tol\n",
    "        return abs(arc_check) < tol\n",
    "\n",
    "    def _arc_force(self, state):\n",
    "        v, h, m = state\n",
    "        return (self.drag(v, h) + m*self.Grav(h) + m*self.Grav(h)/(1 + 4*(self.c/v) +2*(self.c/v)**2)\n",
    "                * (self.beta * self.c**2/self.Grav(h) *(1 + v/self.c) - 1 - 2*self.c/v))\n",
    "    \n",
    "    def solve_bsb(self):\n",
    "        dt = self.dt\n",
    "        states = []\n",
    "        control = []\n",
    "        state = np.array([self.init_v, self.init_h, self.mass])\n",
    "        \n",
    "        while True:\n",
    "            states.append(state)\n",
    "            v, h, m = state\n",
    "            if m >= self.dry_mass:\n",
    "                if not self._in_arc(state): # Bang - Full force\n",
    "                    if self.verbose:\n",
    "                        print('MAX FORCE')\n",
    "                    force = self.f_max\n",
    "\n",
    "                else: # In the arc\n",
    "                    if self.verbose:\n",
    "                        print('ARC FORCE')\n",
    "                    force = self._arc_force(state)\n",
    "            else:\n",
    "                force = 0\n",
    "            state = self._update(force, state, dt)\n",
    "            control.append(force)\n",
    "            if h<1:\n",
    "                break\n",
    "            if self.verbose:\n",
    "                print()\n",
    "        return np.array(states), np.array(control)\n",
    "    \n",
    "    def solve_bb(self):\n",
    "        return self.solve_fixedforce(fixed_force=self.f_max)\n",
    "    \n",
    "    def solve_fixedforce(self, fixed_force=3.5):\n",
    "        dt = self.dt\n",
    "        states = []\n",
    "        control = []\n",
    "        state = np.array([self.init_v, self.init_h, self.mass])\n",
    "        \n",
    "        while True:\n",
    "            states.append(state)\n",
    "            v, h, m = state\n",
    "            if m >= self.dry_mass:\n",
    "                force = fixed_force \n",
    "\n",
    "            else:\n",
    "                force = 0\n",
    "            state = self._update(force, state, dt)\n",
    "            control.append(force)\n",
    "            if h<1:\n",
    "                break\n",
    "            if self.verbose:\n",
    "                print()\n",
    "        return np.array(states), np.array(control) \n",
    "        \n",
    "    def plot_trajectories(self):\n",
    "#         for force in np.arange(1, 4, .5):\n",
    "        for force in [1, 1.1, 1.3, 1.6, 2, 2.5, 3, 3.5]:\n",
    "            states, control = self.solve_fixedforce(force)\n",
    "            plt.plot(states[:,1])\n",
    "        states, control = self.solve_bsb()\n",
    "        plt.plot(states[:,1], '--k', lw=3)\n",
    "        plt.show()\n",
    "        \n",
    "    def make_fixed_force_movie(self):\n",
    "        force_heights = []\n",
    "        \n",
    "        steps = 50\n",
    "        for force in [1+x**2/(steps**2)*2.5 for x in range(steps)]:\n",
    "            states, control = self.solve_fixedforce(force)\n",
    "            force_heights.append((force, states[:,1]))\n",
    "            \n",
    "        fig, ax = plt.subplots()\n",
    "        ln, = ax.plot([], [], 'ro', animated=True)\n",
    "        ax.set_ylim(1, 1.015)\n",
    "        ax.set_xlim(0, 1800)\n",
    "        \n",
    "        def init():\n",
    "            print('init')\n",
    "            ax.set_ylim(1, 1.015)\n",
    "            ax.set_xlim(0, 1800)\n",
    "            return ln,\n",
    "        \n",
    "        def update(frame):\n",
    "            print(frame)\n",
    "            heights = force_heights[frame][1]\n",
    "            y = np.arange(len(heights))\n",
    "            force = force_heights[frame][0]\n",
    "            ln.set_data(heights, y)\n",
    "            return ln,\n",
    "        \n",
    "        ani = FuncAnimation(fig, update, frames=np.arange(50),\n",
    "                    init_func=init, blit=False)\n",
    "        \n",
    "#         fig, ax = plt.subplots()\n",
    "#         xdata, ydata = [], []\n",
    "#         ln, = plt.plot([], [], 'ro', animated=True)\n",
    "\n",
    "#         def init():\n",
    "#             print('init')\n",
    "#             ax.set_xlim(0, 2*np.pi)\n",
    "#             ax.set_ylim(-1, 1)\n",
    "#             return ln,\n",
    "\n",
    "#         def update(frame):\n",
    "#             print(frame)\n",
    "#             xdata.append(frame)\n",
    "#             ydata.append(np.sin(frame))\n",
    "#             ln.set_data(xdata, ydata)\n",
    "#             return ln,\n",
    "\n",
    "#         ani = FuncAnimation(fig, update, frames=np.linspace(0, 2*np.pi, 128),\n",
    "#                             init_func=init, blit=True)\n",
    "\n",
    "        \n",
    "        \n",
    "        plt.plot(force_heights[0][1])\n",
    "        plt.show()\n",
    "        \n",
    "    \n",
    "    def plot_vs(self):\n",
    "        end = 1200\n",
    "        bsb_states, bsb_control = self.solve_bsb()\n",
    "        bb_states, bb_control = self.solve_bb()\n",
    "        y = np.arange(end)\n",
    "        \n",
    "#         skip = 55\n",
    "#         bsb_states = bsb_states[::skip]\n",
    "#         bsb_control = bsb_control[::skip]\n",
    "#         bb_states = bb_states[::skip]\n",
    "#         bb_control = bb_control[::skip]\n",
    "\n",
    "        \n",
    "        \n",
    "        \n",
    "        fig, axes = plt.subplots(2, 2, figsize=(10,10))\n",
    "        \n",
    "        axes[0,0].plot(bsb_states[:end,0])\n",
    "        axes[0,0].plot(bb_states[:end,0], '--')\n",
    "        axes[0,0].set_ylabel('Velocity')\n",
    "\n",
    "        axes[0,1].plot(bsb_states[:end,1], label='BangSingularBang')\n",
    "        axes[0,1].plot(bb_states[:end,1], '--', label='BangBang')\n",
    "        axes[0,1].set_ylabel('Height')\n",
    "        \n",
    "        axes[1,1].plot(bsb_states[:end,2], label='B-S-B')\n",
    "        axes[1,1].plot(bb_states[:end,2], '--', label='B-B')\n",
    "        axes[1,1].set_ylabel('Total Mass')\n",
    "        axes[1,1].legend()\n",
    "        \n",
    "        axes[1,0].plot(bsb_control[:end], 'o', markersize=.8, label='B-S-B')\n",
    "#         axes[1,1].scatter(bsb_control[:end],y)\n",
    "        change = np.argmin(bb_control)\n",
    "        axes[1,0].plot(y[:change], bb_control[:change], '--', c='C1', label='B-B')\n",
    "        axes[1,0].plot(y[change:end], bb_control[change:end], '--', c='C1')\n",
    "        axes[1,0].set_ylabel('Thrust (Control)')\n",
    "        \n",
    "        for i, ax in enumerate([ax for ax_set in axes for ax in ax_set]):\n",
    "            labels = [item.get_text() for item in ax.get_yticklabels()]\n",
    "            empty_string_labels = ['']*len(labels)\n",
    "            ax.set_yticklabels(empty_string_labels)\n",
    "            if i>=2:\n",
    "                ax.set_xlabel('Time')\n",
    "            labels = [item.get_text() for item in ax.get_xticklabels()]\n",
    "            empty_string_labels = ['']*len(labels)\n",
    "            ax.set_xticklabels(empty_string_labels)\n",
    "        if True:\n",
    "            plt.savefig('results.pdf')\n",
    "        plt.show()\n",
    "        return axes\n",
    "        \n",
    "            \n",
    "        \n",
    "    \n",
    "    "
   ]
  },
  {
   "cell_type": "code",
   "execution_count": 848,
   "metadata": {},
   "outputs": [],
   "source": [
    "#def __init__(self, dry_mass, fuel_mass, drag, Ddrag, f_max=3.5):\n",
    "\n",
    "dry_mass = .6\n",
    "fuel_mass = .4\n",
    "# dry_mass = 1/16 \n",
    "# fuel_mass = 15/16 \n",
    "drag = lambda v,h: 310*v**2*np.exp(500*(1-h))\n",
    "Ddrag = lambda v,h: 620*v*np.exp(500*(1-h))\n",
    "\n",
    "rocket = Rocket(dry_mass, fuel_mass, f_max=3.5, verbose=0)"
   ]
  },
  {
   "cell_type": "code",
   "execution_count": 849,
   "metadata": {},
   "outputs": [],
   "source": [
    "states = rocket.plot_vs()"
   ]
  },
  {
   "cell_type": "code",
   "execution_count": 701,
   "metadata": {},
   "outputs": [
    {
     "name": "stdout",
     "output_type": "stream",
     "text": [
      "[[<matplotlib.axes._subplots.AxesSubplot object at 0x7ff66d1304a8>\n",
      "  <matplotlib.axes._subplots.AxesSubplot object at 0x7ff66c922748>]\n",
      " [<matplotlib.axes._subplots.AxesSubplot object at 0x7ff66cf526a0>\n",
      "  <matplotlib.axes._subplots.AxesSubplot object at 0x7ff66d4c4080>]]\n"
     ]
    }
   ],
   "source": [
    "axes = rocket.plot_vs()\n",
    "ax=axes[0,0]"
   ]
  },
  {
   "cell_type": "code",
   "execution_count": 674,
   "metadata": {},
   "outputs": [
    {
     "name": "stdout",
     "output_type": "stream",
     "text": [
      "Object `plot` not found.\n"
     ]
    }
   ],
   "source": [
    "a[0].plot?"
   ]
  },
  {
   "cell_type": "code",
   "execution_count": null,
   "metadata": {},
   "outputs": [],
   "source": [
    "a[0].plot"
   ]
  },
  {
   "cell_type": "code",
   "execution_count": null,
   "metadata": {},
   "outputs": [],
   "source": [
    "ax.set_xl"
   ]
  },
  {
   "cell_type": "code",
   "execution_count": 567,
   "metadata": {},
   "outputs": [],
   "source": [
    "rocket.make_fixed_force_movie()"
   ]
  },
  {
   "cell_type": "code",
   "execution_count": 451,
   "metadata": {},
   "outputs": [],
   "source": [
    "states1, control1 = rocket.solve_bsb()"
   ]
  },
  {
   "cell_type": "code",
   "execution_count": 452,
   "metadata": {},
   "outputs": [],
   "source": [
    "states2, control2 = rocket.solve_fixedforce()"
   ]
  },
  {
   "cell_type": "code",
   "execution_count": 453,
   "metadata": {},
   "outputs": [
    {
     "data": {
      "text/plain": [
       "1.0127993922979164"
      ]
     },
     "execution_count": 453,
     "metadata": {},
     "output_type": "execute_result"
    }
   ],
   "source": [
    "max(states1[:,1])"
   ]
  },
  {
   "cell_type": "code",
   "execution_count": 454,
   "metadata": {
    "scrolled": true
   },
   "outputs": [
    {
     "data": {
      "text/plain": [
       "1.012476303306834"
      ]
     },
     "execution_count": 454,
     "metadata": {},
     "output_type": "execute_result"
    }
   ],
   "source": [
    "max(states2[:,1])"
   ]
  },
  {
   "cell_type": "code",
   "execution_count": 455,
   "metadata": {},
   "outputs": [
    {
     "data": {
      "text/plain": [
       "100031.91077065478"
      ]
     },
     "execution_count": 455,
     "metadata": {},
     "output_type": "execute_result"
    }
   ],
   "source": [
    "\n",
    "100000*(max(states1[:,1]) / max(states2[:,1]))"
   ]
  },
  {
   "cell_type": "code",
   "execution_count": 456,
   "metadata": {},
   "outputs": [
    {
     "data": {
      "text/plain": [
       "351"
      ]
     },
     "execution_count": 456,
     "metadata": {},
     "output_type": "execute_result"
    }
   ],
   "source": [
    "len(control)"
   ]
  },
  {
   "cell_type": "code",
   "execution_count": 557,
   "metadata": {},
   "outputs": [],
   "source": [
    "plt.plot(states1[:,1])\n",
    "plt.plot(states2[:,1])\n",
    "plt.show()"
   ]
  },
  {
   "cell_type": "code",
   "execution_count": 458,
   "metadata": {
    "scrolled": true
   },
   "outputs": [
    {
     "data": {
      "image/png": "[encoded data removed]",
      "text/plain": [
       "<matplotlib.figure.Figure at 0x7ff6785547f0>"
      ]
     },
     "metadata": {},
     "output_type": "display_data"
    }
   ],
   "source": [
    "plt.plot(states1[:,0])\n",
    "plt.plot(states2[:,0])\n",
    "plt.show()"
   ]
  },
  {
   "cell_type": "code",
   "execution_count": 459,
   "metadata": {},
   "outputs": [
    {
     "data": {
      "image/png": "[encoded data removed]",
      "text/plain": [
       "<matplotlib.figure.Figure at 0x7ff6786c3470>"
      ]
     },
     "metadata": {},
     "output_type": "display_data"
    }
   ],
   "source": [
    "plt.plot(states1[:,2])\n",
    "plt.plot(states2[:,2])\n",
    "plt.show()"
   ]
  },
  {
   "cell_type": "code",
   "execution_count": null,
   "metadata": {},
   "outputs": [],
   "source": []
  },
  {
   "cell_type": "code",
   "execution_count": 461,
   "metadata": {},
   "outputs": [
    {
     "data": {
      "image/png": "[encoded data removed]",
      "text/plain": [
       "<matplotlib.figure.Figure at 0x7ff678786e10>"
      ]
     },
     "metadata": {},
     "output_type": "display_data"
    }
   ],
   "source": [
    "plt.plot(control1[:1000])\n",
    "plt.plot(control2[:1000])\n",
    "plt.show()"
   ]
  },
  {
   "cell_type": "code",
   "execution_count": 359,
   "metadata": {},
   "outputs": [
    {
     "data": {
      "image/png": "[encoded data removed]",
      "text/plain": [
       "<matplotlib.figure.Figure at 0x7ff678923fd0>"
      ]
     },
     "metadata": {},
     "output_type": "display_data"
    }
   ],
   "source": [
    "plt.plot(control2)\n",
    "plt.show()\n"
   ]
  },
  {
   "cell_type": "code",
   "execution_count": null,
   "metadata": {},
   "outputs": [],
   "source": [
    "#     def solve_fixedforce(self, fixed_force=3.5):\n",
    "#         i = 0\n",
    "#         dt = 1/1000\n",
    "#         states = []\n",
    "#         control = []\n",
    "#         state = np.array([self.init_v, self.init_h, self.mass])\n",
    "        \n",
    "#         while True:\n",
    "#             states.append(state)\n",
    "            \n",
    "#             if state[2]>=self.dry_mass:\n",
    "#                 if self.verbose:\n",
    "#                     print('MAX FORCE')\n",
    "#                 force = fixed_force\n",
    "#             else:\n",
    "#                 force = 0\n",
    "#             state = self._update(force, state, dt)\n",
    "#             control.append(force)\n",
    "            \n",
    "#             #We ran out of fuel\n",
    "#             if state[2]<=self.dry_mass:\n",
    "#                 if self.verbose:\n",
    "#                     print('RAN OUT OF FUEL')\n",
    "            \n",
    "#             if state[1]<=0:\n",
    "#                 print('CRASH')\n",
    "#                 break\n",
    "#             if state[0]<=0:\n",
    "#                 break\n",
    "#             #TESTING\n",
    "#             if i < 10 and state[0]<0:\n",
    "#                 if self.verbose:\n",
    "#                     print(f'~~Velocity was negative ({round(state[0],3)}). Setting to 0')\n",
    "#                 state[0]=0\n",
    "#             if i>10 and state[1]<=0:\n",
    "#                 break\n",
    "#             if self.verbose:\n",
    "#                 print()\n",
    "#             if i>5000:\n",
    "#                 break\n",
    "                \n",
    "#         states.append(state)\n",
    "#         return np.array(states), np.array(control)"
   ]
  },
  {
   "cell_type": "code",
   "execution_count": 568,
   "metadata": {},
   "outputs": [
    {
     "name": "stdout",
     "output_type": "stream",
     "text": [
      "init\n",
      "0.0\n",
      "0.049473900056532176\n",
      "0.09894780011306435\n",
      "0.14842170016959652\n",
      "0.1978956002261287\n",
      "0.2473695002826609\n",
      "0.29684340033919304\n",
      "0.3463173003957252\n",
      "0.3957912004522574\n",
      "0.4452651005087896\n",
      "0.4947390005653218\n",
      "0.5442129006218539\n",
      "0.5936868006783861\n",
      "0.6431607007349183\n",
      "0.6926346007914504\n",
      "0.7421085008479826\n",
      "0.7915824009045148\n"
     ]
    }
   ],
   "source": [
    "%matplotlib tk\n",
    "import numpy as np\n",
    "import matplotlib.pyplot as plt\n",
    "from matplotlib.animation import FuncAnimation\n",
    "\n",
    "fig, ax = plt.subplots()\n",
    "xdata, ydata = [], []\n",
    "ln, = plt.plot([], [], 'ro', animated=True)\n",
    "\n",
    "def init():\n",
    "    print('init')\n",
    "    ax.set_xlim(0, 2*np.pi)\n",
    "    ax.set_ylim(-1, 1)\n",
    "    return ln,\n",
    "\n",
    "def update(frame):\n",
    "    print(frame)\n",
    "    xdata.append(frame)\n",
    "    ydata.append(np.sin(frame))\n",
    "    ln.set_data(xdata, ydata)\n",
    "    return ln,\n",
    "\n",
    "ani = FuncAnimation(fig, update, frames=np.linspace(0, 2*np.pi, 128),\n",
    "                    init_func=init, blit=True)\n",
    "plt.show()"
   ]
  },
  {
   "cell_type": "code",
   "execution_count": 494,
   "metadata": {},
   "outputs": [],
   "source": [
    "import numpy as np\n",
    "import matplotlib.pyplot as plt\n",
    "import matplotlib.animation as animation\n",
    "\n",
    "fig = plt.figure()\n",
    "\n",
    "\n",
    "def f(x, y):\n",
    "    return np.sin(x) + np.cos(y)\n",
    "\n",
    "x = np.linspace(0, 2 * np.pi, 120)\n",
    "y = np.linspace(0, 2 * np.pi, 100).reshape(-1, 1)\n",
    "\n",
    "im = plt.imshow(f(x, y), animated=True)\n",
    "\n",
    "\n",
    "def updatefig(*args):\n",
    "    global x, y\n",
    "    x += np.pi / 15.\n",
    "    y += np.pi / 20.\n",
    "    im.set_array(f(x, y))\n",
    "    return im,\n",
    "\n",
    "ani = animation.FuncAnimation(fig, updatefig, interval=50, blit=True)\n",
    "plt.show()"
   ]
  },
  {
   "cell_type": "code",
   "execution_count": 495,
   "metadata": {},
   "outputs": [],
   "source": [
    "\"\"\"\n",
    "A simple example of an animated plot\n",
    "\"\"\"\n",
    "import numpy as np\n",
    "import matplotlib.pyplot as plt\n",
    "import matplotlib.animation as animation\n",
    "\n",
    "fig, ax = plt.subplots()\n",
    "\n",
    "x = np.arange(0, 2*np.pi, 0.01)\n",
    "line, = ax.plot(x, np.sin(x))\n",
    "\n",
    "\n",
    "def animate(i):\n",
    "    line.set_ydata(np.sin(x + i/10.0))  # update the data\n",
    "    return line,\n",
    "\n",
    "\n",
    "# Init only required for blitting to give a clean slate.\n",
    "def init():\n",
    "    line.set_ydata(np.ma.array(x, mask=True))\n",
    "    return line,\n",
    "\n",
    "ani = animation.FuncAnimation(fig, animate, np.arange(1, 200), init_func=init,\n",
    "                              interval=25, blit=True)\n",
    "plt.show()"
   ]
  },
  {
   "cell_type": "code",
   "execution_count": 496,
   "metadata": {},
   "outputs": [],
   "source": [
    "\"\"\"\n",
    "========================\n",
    "MATPLOTLIB **UNCHAINED**\n",
    "========================\n",
    "\n",
    "Comparative path demonstration of frequency from a fake signal of a pulsar.\n",
    "(mostly known because of the cover for Joy Division's Unknown Pleasures)\n",
    "\n",
    "Author: Nicolas P. Rougier\n",
    "\"\"\"\n",
    "import numpy as np\n",
    "import matplotlib.pyplot as plt\n",
    "import matplotlib.animation as animation\n",
    "\n",
    "# Create new Figure with black background\n",
    "fig = plt.figure(figsize=(8, 8), facecolor='black')\n",
    "\n",
    "# Add a subplot with no frame\n",
    "ax = plt.subplot(111, frameon=False)\n",
    "\n",
    "# Generate random data\n",
    "data = np.random.uniform(0, 1, (64, 75))\n",
    "X = np.linspace(-1, 1, data.shape[-1])\n",
    "G = 1.5 * np.exp(-4 * X * X)\n",
    "\n",
    "# Generate line plots\n",
    "lines = []\n",
    "for i in range(len(data)):\n",
    "    # Small reduction of the X extents to get a cheap perspective effect\n",
    "    xscale = 1 - i / 200.\n",
    "    # Same for linewidth (thicker strokes on bottom)\n",
    "    lw = 1.5 - i / 100.0\n",
    "    line, = ax.plot(xscale * X, i + G * data[i], color=\"w\", lw=lw)\n",
    "    lines.append(line)\n",
    "\n",
    "# Set y limit (or first line is cropped because of thickness)\n",
    "ax.set_ylim(-1, 70)\n",
    "\n",
    "# No ticks\n",
    "ax.set_xticks([])\n",
    "ax.set_yticks([])\n",
    "\n",
    "# 2 part titles to get different font weights\n",
    "ax.text(0.5, 1.0, \"MATPLOTLIB \", transform=ax.transAxes,\n",
    "        ha=\"right\", va=\"bottom\", color=\"w\",\n",
    "        family=\"sans-serif\", fontweight=\"light\", fontsize=16)\n",
    "ax.text(0.5, 1.0, \"UNCHAINED\", transform=ax.transAxes,\n",
    "        ha=\"left\", va=\"bottom\", color=\"w\",\n",
    "        family=\"sans-serif\", fontweight=\"bold\", fontsize=16)\n",
    "\n",
    "\n",
    "def update(*args):\n",
    "    # Shift all data to the right\n",
    "    data[:, 1:] = data[:, :-1]\n",
    "\n",
    "    # Fill-in new values\n",
    "    data[:, 0] = np.random.uniform(0, 1, len(data))\n",
    "\n",
    "    # Update data\n",
    "    for i in range(len(data)):\n",
    "        lines[i].set_ydata(i + G * data[i])\n",
    "\n",
    "    # Return modified artists\n",
    "    return lines\n",
    "\n",
    "# Construct the animation, using the update function as the animation\n",
    "# director.\n",
    "anim = animation.FuncAnimation(fig, update, interval=10)\n",
    "plt.show()"
   ]
  },
  {
   "cell_type": "code",
   "execution_count": 497,
   "metadata": {},
   "outputs": [],
   "source": [
    "\"\"\"\n",
    "=================\n",
    "Animated subplots\n",
    "=================\n",
    "\n",
    "This example uses subclassing, but there is no reason that the proper function\n",
    "couldn't be set up and then use FuncAnimation. The code is long, but not\n",
    "really complex. The length is due solely to the fact that there are a total of\n",
    "9 lines that need to be changed for the animation as well as 3 subplots that\n",
    "need initial set up.\n",
    "\n",
    "\"\"\"\n",
    "\n",
    "import numpy as np\n",
    "import matplotlib.pyplot as plt\n",
    "from matplotlib.lines import Line2D\n",
    "import matplotlib.animation as animation\n",
    "\n",
    "\n",
    "class SubplotAnimation(animation.TimedAnimation):\n",
    "    def __init__(self):\n",
    "        fig = plt.figure()\n",
    "        ax1 = fig.add_subplot(1, 2, 1)\n",
    "        ax2 = fig.add_subplot(2, 2, 2)\n",
    "        ax3 = fig.add_subplot(2, 2, 4)\n",
    "\n",
    "        self.t = np.linspace(0, 80, 400)\n",
    "        self.x = np.cos(2 * np.pi * self.t / 10.)\n",
    "        self.y = np.sin(2 * np.pi * self.t / 10.)\n",
    "        self.z = 10 * self.t\n",
    "\n",
    "        ax1.set_xlabel('x')\n",
    "        ax1.set_ylabel('y')\n",
    "        self.line1 = Line2D([], [], color='black')\n",
    "        self.line1a = Line2D([], [], color='red', linewidth=2)\n",
    "        self.line1e = Line2D(\n",
    "            [], [], color='red', marker='o', markeredgecolor='r')\n",
    "        ax1.add_line(self.line1)\n",
    "        ax1.add_line(self.line1a)\n",
    "        ax1.add_line(self.line1e)\n",
    "        ax1.set_xlim(-1, 1)\n",
    "        ax1.set_ylim(-2, 2)\n",
    "        ax1.set_aspect('equal', 'datalim')\n",
    "\n",
    "        ax2.set_xlabel('y')\n",
    "        ax2.set_ylabel('z')\n",
    "        self.line2 = Line2D([], [], color='black')\n",
    "        self.line2a = Line2D([], [], color='red', linewidth=2)\n",
    "        self.line2e = Line2D(\n",
    "            [], [], color='red', marker='o', markeredgecolor='r')\n",
    "        ax2.add_line(self.line2)\n",
    "        ax2.add_line(self.line2a)\n",
    "        ax2.add_line(self.line2e)\n",
    "        ax2.set_xlim(-1, 1)\n",
    "        ax2.set_ylim(0, 800)\n",
    "\n",
    "        ax3.set_xlabel('x')\n",
    "        ax3.set_ylabel('z')\n",
    "        self.line3 = Line2D([], [], color='black')\n",
    "        self.line3a = Line2D([], [], color='red', linewidth=2)\n",
    "        self.line3e = Line2D(\n",
    "            [], [], color='red', marker='o', markeredgecolor='r')\n",
    "        ax3.add_line(self.line3)\n",
    "        ax3.add_line(self.line3a)\n",
    "        ax3.add_line(self.line3e)\n",
    "        ax3.set_xlim(-1, 1)\n",
    "        ax3.set_ylim(0, 800)\n",
    "\n",
    "        animation.TimedAnimation.__init__(self, fig, interval=50, blit=True)\n",
    "\n",
    "    def _draw_frame(self, framedata):\n",
    "        i = framedata\n",
    "        head = i - 1\n",
    "        head_slice = (self.t > self.t[i] - 1.0) & (self.t < self.t[i])\n",
    "\n",
    "        self.line1.set_data(self.x[:i], self.y[:i])\n",
    "        self.line1a.set_data(self.x[head_slice], self.y[head_slice])\n",
    "        self.line1e.set_data(self.x[head], self.y[head])\n",
    "\n",
    "        self.line2.set_data(self.y[:i], self.z[:i])\n",
    "        self.line2a.set_data(self.y[head_slice], self.z[head_slice])\n",
    "        self.line2e.set_data(self.y[head], self.z[head])\n",
    "\n",
    "        self.line3.set_data(self.x[:i], self.z[:i])\n",
    "        self.line3a.set_data(self.x[head_slice], self.z[head_slice])\n",
    "        self.line3e.set_data(self.x[head], self.z[head])\n",
    "\n",
    "        self._drawn_artists = [self.line1, self.line1a, self.line1e,\n",
    "                               self.line2, self.line2a, self.line2e,\n",
    "                               self.line3, self.line3a, self.line3e]\n",
    "\n",
    "    def new_frame_seq(self):\n",
    "        return iter(range(self.t.size))\n",
    "\n",
    "    def _init_draw(self):\n",
    "        lines = [self.line1, self.line1a, self.line1e,\n",
    "                 self.line2, self.line2a, self.line2e,\n",
    "                 self.line3, self.line3a, self.line3e]\n",
    "        for l in lines:\n",
    "            l.set_data([], [])\n",
    "\n",
    "ani = SubplotAnimation()\n",
    "# ani.save('test_sub.mp4')\n",
    "plt.show()"
   ]
  },
  {
   "cell_type": "code",
   "execution_count": null,
   "metadata": {},
   "outputs": [],
   "source": []
  }
 ],
 "metadata": {
  "kernelspec": {
   "display_name": "Python 3",
   "language": "python",
   "name": "python3"
  },
  "language_info": {
   "codemirror_mode": {
    "name": "ipython",
    "version": 3
   },
   "file_extension": ".py",
   "mimetype": "text/x-python",
   "name": "python",
   "nbconvert_exporter": "python",
   "pygments_lexer": "ipython3",
   "version": "3.6.4"
  }
 },
 "nbformat": 4,
 "nbformat_minor": 2
}
